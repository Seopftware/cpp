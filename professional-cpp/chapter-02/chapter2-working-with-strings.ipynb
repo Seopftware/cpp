{
 "cells": [
  {
   "cell_type": "markdown",
   "metadata": {},
   "source": [
    "# 2 Working with Strings"
   ]
  },
  {
   "cell_type": "code",
   "execution_count": null,
   "metadata": {},
   "outputs": [],
   "source": [
    "#include <iostream>\n",
    "#include <cstring>"
   ]
  },
  {
   "cell_type": "markdown",
   "metadata": {},
   "source": [
    "## 2.1 Dynamic Strings"
   ]
  },
  {
   "cell_type": "markdown",
   "metadata": {},
   "source": [
    "### 2.1.1 C-Style Strings"
   ]
  },
  {
   "cell_type": "code",
   "execution_count": null,
   "metadata": {},
   "outputs": [],
   "source": [
    "char* copyString(const char* str) \n",
    "{\n",
    "    // 확인을 위해서 ryan code\n",
    "    std::cout << strlen(str) << std::endl;\n",
    "    char* result = new char[strlen(str)]; // 버그! 크기 1만큼 부족!\n",
    "    strcpy(result, str);\n",
    "\n",
    "    return result;\n",
    "}"
   ]
  },
  {
   "cell_type": "code",
   "execution_count": null,
   "metadata": {},
   "outputs": [],
   "source": [
    "char* retValue = copyString(\"Hello\"); // 5\n",
    "    \n",
    "std::cout << strlen(retValue) << std::endl;\n",
    "std::cout << retValue << std::endl;"
   ]
  },
  {
   "cell_type": "code",
   "execution_count": null,
   "metadata": {},
   "outputs": [],
   "source": [
    "char* copyString2(const char* str) \n",
    "{\n",
    "    // 확인을 위해서 ryan code\n",
    "    std::cout << strlen(str) << std::endl;\n",
    "    char* result = new char[strlen(str) + 1];\n",
    "    strcpy(result, str);\n",
    "\n",
    "    return result;\n",
    "}"
   ]
  },
  {
   "cell_type": "code",
   "execution_count": null,
   "metadata": {},
   "outputs": [],
   "source": [
    "char* retValue2 = copyString2(\"Hello\"); // 5\n",
    "    \n",
    "std::cout << strlen(retValue2) << std::endl;\n",
    "std::cout << retValue2 << std::endl;"
   ]
  },
  {
   "cell_type": "code",
   "execution_count": null,
   "metadata": {},
   "outputs": [],
   "source": [
    "char* appendStrings(const char* str1, const char* str2, const char* str3)\n",
    "{\n",
    "    char* result = new char[strlen(str1) + strlen(str2) + strlen(str3)];\n",
    "    strcpy(result, str1);\n",
    "    strcat(result, str2);\n",
    "    strcat(result, str3);\n",
    "    \n",
    "    return result;\n",
    "}"
   ]
  },
  {
   "cell_type": "code",
   "execution_count": null,
   "metadata": {},
   "outputs": [],
   "source": [
    "char* appendValue = appendStrings(\"test1\", \"test2\", \"test3\");\n",
    "\n",
    "std::cout << strlen(appendValue) << std::endl;\n",
    "std::cout << appendValue << std::endl;"
   ]
  },
  {
   "cell_type": "markdown",
   "metadata": {},
   "source": [
    "#### 문자열 크기 확인"
   ]
  },
  {
   "cell_type": "code",
   "execution_count": null,
   "metadata": {},
   "outputs": [],
   "source": [
    "char text1[] = \"abcdef\";\n",
    "size_t s1 = sizeof(text1);\n",
    "size_t s2 = strlen(text1);\n",
    "\n",
    "std::cout << s1 << std::endl;\n",
    "std::cout << s2 << std::endl;"
   ]
  },
  {
   "cell_type": "code",
   "execution_count": null,
   "metadata": {
    "slideshow": {
     "slide_type": "-"
    }
   },
   "outputs": [],
   "source": [
    "const char* text2 = \"abcdef\";\n",
    "size_t s3 = sizeof(text2);\n",
    "size_t s4 = strlen(text2);\n",
    "\n",
    "std::cout << s3 << std::endl;\n",
    "std::cout << s4 << std::endl;"
   ]
  },
  {
   "cell_type": "markdown",
   "metadata": {},
   "source": [
    "* Visual Studio의 C 스타일에서는 strcpy() 를 사용하면 경고 메시지가 나옴\n",
    "* 따라서 strcpy_s() 함수를 사용한 됨\n",
    "* _s 는 secure C library(ISO/IEC TR 24731) 표준에 의해 제공되는 보안 허점 개선 버전\n",
    "* **하지만 가장 좋은 것은 C++ string 클래스를 사용하는 것임**"
   ]
  },
  {
   "cell_type": "markdown",
   "metadata": {},
   "source": [
    "### 2.1.2 String Literals"
   ]
  },
  {
   "cell_type": "code",
   "execution_count": null,
   "metadata": {},
   "outputs": [],
   "source": [
    "// hello 를 문자열 리터럴이라고 함\n",
    "std::cout << \"hello\" << std::endl;"
   ]
  },
  {
   "cell_type": "markdown",
   "metadata": {},
   "source": [
    "* 문자열은 읽기 전용 메모리에 위치\n",
    "* 물론, 변수에 대입될 수 있지만 매우 위험한 상태임\n",
    "* C++ 에서는 공식적으로 문자열 리터럴을 크기 n의 const char 배열 타입으로 정의\n",
    "  * const 개념이 없는 환경에서 작성된 오래된 코드들이 존재하기 때문에 하위 호환성 문제로 컴파일러 강제하지 않음\n",
    "  * 문자열 리터럴 변수 할당할 때는 const char* 로 할 수 있지만 char* 타입변수 무방\n",
    "* 문자열 리터럴 변경은 변경할 때 어떤 일이 일어나는지 아무도 알 수 없음. \n",
    "  * 따라서 const 타입의 변수 사용하는 안전함"
   ]
  },
  {
   "cell_type": "code",
   "execution_count": null,
   "metadata": {},
   "outputs": [],
   "source": [
    "char* ptr1 = \"hello\";\n",
    "ptr1[1] = 'a';\n",
    "\n",
    "// warning 메시지 발생\n",
    "std::cout << ptr1 << std::endl;"
   ]
  },
  {
   "cell_type": "code",
   "execution_count": null,
   "metadata": {},
   "outputs": [],
   "source": [
    "const char* ptr2 = \"hello\";\n",
    "ptr2[1] = 'a';\n",
    "\n",
    "// 컴파일러 에러 발생;  읽기 전용 메모리에 쓰기 시도(const)\n",
    "std::cout << ptr2 << std::endl;"
   ]
  },
  {
   "cell_type": "code",
   "execution_count": null,
   "metadata": {},
   "outputs": [],
   "source": [
    "// 컴파일러가 자동으로 문자열 배열 크기에 맞게 메모리 할당 함\n",
    "char arr[] = \"hello\";\n",
    "arr[1] = 'a';\n",
    "\n",
    "std::cout << arr << std::endl;\n",
    "std::cout << sizeof(arr) << std::endl;\n",
    "std::cout << strlen(arr) << std::endl;"
   ]
  },
  {
   "cell_type": "markdown",
   "metadata": {},
   "source": [
    "### 2.1.3 The C++ string class"
   ]
  },
  {
   "cell_type": "markdown",
   "metadata": {},
   "source": [
    "* C++ 의 std::string 클래스는 <cstring> 에서 제공하는 문자열 처리 대부분을 지원 함\n",
    "* 제대로 사용한다면 메모리 할당 부분까지 대신 관리\n",
    "* string 클래스는 <string> 헤더 파일에 정의 되어 있음"
   ]
  },
  {
   "cell_type": "markdown",
   "metadata": {},
   "source": [
    "#### C 스타일의 문자열의 문제점\n",
    "\n",
    "* 장점\n",
    "  * 단순하다. 기본 문자 타입과 배열 구조만 사용\n",
    "  * 가볍다. 제대로 사용한다면 꼭 필요한 메모리 공간만 점유\n",
    "  * 저수준이다. 로우 메모리상에서 쉽게 조작하거나 복제할 수 있음\n",
    "  * C 프로그래머에게 매우 익숙하여 새로 배울 필요가 없음\n",
    "  \n",
    "* 단점\n",
    "  * 범용 문자열 데이터 타입으로 고급 작업을 하기에는 너무 많은 노력이 추가 필요\n",
    "  * 잘못된 메모리 작업에 민감하고 해당 버그를 찾기 어려움\n",
    "  * C++의 객체지향 개념을 활용하지 못함\n",
    "  * 프로그래머가 문자열의 내부 동작 방식을 이애해야 한다."
   ]
  },
  {
   "cell_type": "code",
   "execution_count": null,
   "metadata": {},
   "outputs": [],
   "source": [
    "#include <iostream>\n",
    "#include <string>"
   ]
  },
  {
   "cell_type": "code",
   "execution_count": null,
   "metadata": {},
   "outputs": [],
   "source": [
    "std::string A(\"12\");\n",
    "std::string B(\"34\");\n",
    "\n",
    "std::string c = A + B;\n",
    "std::cout << c << std::endl;"
   ]
  },
  {
   "cell_type": "code",
   "execution_count": null,
   "metadata": {},
   "outputs": [],
   "source": [
    "std::cout << A << std::endl;\n",
    "A += B;\n",
    "std::cout << A << std::endl;"
   ]
  },
  {
   "cell_type": "code",
   "execution_count": null,
   "metadata": {},
   "outputs": [],
   "source": [
    "// C 스타일의 문제점\n",
    "// 문자열을 비교하기 어려움\n",
    "char* a = \"12\";\n",
    "char b[] = \"12\";\n",
    "\n",
    "if (a == b) {\n",
    "    std::cout << \"True\" << std::endl;\n",
    "} else {\n",
    "    std::cout << \"False\" << std::endl;\n",
    "}"
   ]
  },
  {
   "cell_type": "code",
   "execution_count": null,
   "metadata": {},
   "outputs": [],
   "source": [
    "// 이렇게 변경해 줘야 함\n",
    "if (strcmp(a, b) == 0) {\n",
    "    std::cout << \"True\" << std::endl;\n",
    "} else {\n",
    "    std::cout << \"False\" << std::endl;\n",
    "}"
   ]
  },
  {
   "cell_type": "code",
   "execution_count": null,
   "metadata": {},
   "outputs": [],
   "source": [
    "// string 클래스는 자체적으로 메모리 관리 함\n",
    "std::string myString = \"hello\";\n",
    "myString += \", there\";\n",
    "std::string myOtherString = myString;\n",
    "\n",
    "if (myString == myOtherString) {\n",
    "    myOtherString[0] = 'H';\n",
    "}\n",
    "\n",
    "std::cout << myString << std::endl;\n",
    "std::cout << myOtherString << std::endl;"
   ]
  },
  {
   "cell_type": "code",
   "execution_count": null,
   "metadata": {},
   "outputs": [],
   "source": [
    "auto string1 = \"Hello World\"; // string1 타입은 const char* 이며,\n",
    "// auto string2 = \"Hello World\"s; // string2 타입은 std::string 타입이다.\n",
    "\n",
    "std::cout << string1 << std::endl;\n",
    "// std::cout << string2 << std::endl;"
   ]
  },
  {
   "cell_type": "markdown",
   "metadata": {},
   "source": [
    "#### 수치변환"
   ]
  },
  {
   "cell_type": "code",
   "execution_count": null,
   "metadata": {},
   "outputs": [],
   "source": [
    "#include <typeinfo>  //for 'typeid' to work  \n",
    "\n",
    "\n",
    "int i = -7;\n",
    "unsigned us = 5U;\n",
    "long l = -7L;\n",
    "long long ll = 14LL;\n",
    "unsigned long ul = 5400UL;\n",
    "unsigned long long ull = 140ULL;\n",
    "float f = 7.2f;\n",
    "double d = 7.2;\n",
    "long double ld = 16.98L;\n",
    "\n",
    "std::string s_i = std::to_string(i);\n",
    "std::string s_us = std::to_string(us);\n",
    "std::string s_l = std::to_string(l);\n",
    "std::string s_ll = std::to_string(ll);\n",
    "std::string s_ul = std::to_string(ul);\n",
    "std::string s_ull = std::to_string(ull);\n",
    "std::string s_f = std::to_string(f);\n",
    "std::string s_d = std::to_string(d);\n",
    "std::string s_ld = std::to_string(ld);\n",
    "\n",
    "std::cout << \"int i => \" << s_i << \": \" << typeid(s_i).name() << std::endl;\n",
    "std::cout << \"unsigned us => \" << s_us  << \": \" << typeid(s_us).name() << std::endl;\n",
    "std::cout << \"long l => \" << s_l  << \": \" << typeid(s_l).name() << std::endl;\n",
    "std::cout << \"long long ll => \" << s_ll  << \": \" << typeid(s_ll).name() << std::endl;\n",
    "std::cout << \"unsigned long ul =>\" << s_ul  << \": \" << typeid(s_ul).name() << std::endl;\n",
    "std::cout << \"float f => \" << s_f  << \": \" << typeid(s_f).name() << std::endl;\n",
    "std::cout << \"double d => \" << s_d  << \": \" << typeid(s_d).name() << std::endl;\n",
    "std::cout << \"long double d => \" << s_ld  << \": \" << typeid(s_ld).name() << std::endl;\n",
    "\n"
   ]
  },
  {
   "cell_type": "code",
   "execution_count": null,
   "metadata": {},
   "outputs": [],
   "source": [
    "std::cout << \"s_i: \" << s_i << \", convert to => \" << stoi(s_i) << \", type: \" << typeid((stoi(s_l))).name()<< std::endl;"
   ]
  },
  {
   "cell_type": "code",
   "execution_count": null,
   "metadata": {},
   "outputs": [],
   "source": [
    "const std::string s = \"1234\";\n",
    "int i = stoi(s);\n",
    "std::cout << i << std::endl;"
   ]
  },
  {
   "cell_type": "markdown",
   "metadata": {},
   "source": [
    "## 2.2 Raw String Literals"
   ]
  },
  {
   "cell_type": "code",
   "execution_count": null,
   "metadata": {},
   "outputs": [],
   "source": [
    "std::string str = R\"(Hello \"World\"!)\";\n",
    "std::cout << str << std::endl;"
   ]
  },
  {
   "cell_type": "code",
   "execution_count": null,
   "metadata": {},
   "outputs": [],
   "source": [
    "std::string str2 = R\"(Line 1\n",
    "Line2 with \\t)\";\n",
    "\n",
    "std::cout << str2 << std::endl;"
   ]
  },
  {
   "cell_type": "code",
   "execution_count": null,
   "metadata": {},
   "outputs": [],
   "source": [
    "# AVOID\n",
    "\n",
    "std::string str3 = R\"(Th characters )\" are embedded in this string)\";\n",
    "std::cout << str3 << std::endl;"
   ]
  },
  {
   "cell_type": "code",
   "execution_count": null,
   "metadata": {},
   "outputs": [],
   "source": [
    "std::string str3 = R\"-(Th characters )\" are embedded in this string)-\";\n",
    "std::cout << str3 << std::endl;"
   ]
  },
  {
   "cell_type": "markdown",
   "metadata": {},
   "source": [
    "## 2.3 Nonstandard Strings"
   ]
  },
  {
   "cell_type": "markdown",
   "metadata": {},
   "source": [
    "* C++ 개발자들이 string 타입을 사용하지 않는 이유\n",
    "  * string 타입이 존재하는 것을 모르기 때문\n",
    "  * 상황에 따라서 적합하지 않기 때문\n",
    "  * 개발프레임워크가 제공해주는 문자열을 사용하기 때문"
   ]
  },
  {
   "cell_type": "code",
   "execution_count": null,
   "metadata": {},
   "outputs": [],
   "source": []
  }
 ],
 "metadata": {
  "kernelspec": {
   "display_name": "C++14",
   "language": "C++14",
   "name": "xeus-cling-cpp14"
  },
  "language_info": {
   "codemirror_mode": "text/x-c++src",
   "file_extension": ".cpp",
   "mimetype": "text/x-c++src",
   "name": "c++",
   "version": "14"
  }
 },
 "nbformat": 4,
 "nbformat_minor": 2
}
